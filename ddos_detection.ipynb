{
  "cells": [
    {
      "cell_type": "markdown",
      "source": [],
      "metadata": {
        "id": "Urk_eQ6tmQma"
      },
      "id": "Urk_eQ6tmQma"
    },
    {
      "cell_type": "code",
      "source": [],
      "metadata": {
        "id": "g-Q5uktqmQ73"
      },
      "id": "g-Q5uktqmQ73",
      "execution_count": null,
      "outputs": []
    }
  ],
  "metadata": {
    "colab": {
      "provenance": []
    }
  },
  "nbformat": 4,
  "nbformat_minor": 5
}